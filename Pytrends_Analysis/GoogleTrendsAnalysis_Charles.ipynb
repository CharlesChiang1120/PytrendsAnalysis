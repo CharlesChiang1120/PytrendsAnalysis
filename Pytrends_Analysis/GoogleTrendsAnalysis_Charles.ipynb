{
 "cells": [
  {
   "cell_type": "code",
   "execution_count": 11,
   "metadata": {},
   "outputs": [
    {
     "name": "stdout",
     "output_type": "stream",
     "text": [
      "Requirement already satisfied: pytrends in /Users/charles/opt/anaconda3/lib/python3.7/site-packages (4.7.2)\n",
      "Requirement already satisfied: requests in /Users/charles/opt/anaconda3/lib/python3.7/site-packages (from pytrends) (2.22.0)\n",
      "Requirement already satisfied: lxml in /Users/charles/opt/anaconda3/lib/python3.7/site-packages (from pytrends) (4.4.1)\n",
      "Requirement already satisfied: pandas in /Users/charles/opt/anaconda3/lib/python3.7/site-packages (from pytrends) (0.25.1)\n",
      "Requirement already satisfied: chardet<3.1.0,>=3.0.2 in /Users/charles/opt/anaconda3/lib/python3.7/site-packages (from requests->pytrends) (3.0.4)\n",
      "Requirement already satisfied: certifi>=2017.4.17 in /Users/charles/opt/anaconda3/lib/python3.7/site-packages (from requests->pytrends) (2019.9.11)\n",
      "Requirement already satisfied: idna<2.9,>=2.5 in /Users/charles/opt/anaconda3/lib/python3.7/site-packages (from requests->pytrends) (2.8)\n",
      "Requirement already satisfied: urllib3!=1.25.0,!=1.25.1,<1.26,>=1.21.1 in /Users/charles/opt/anaconda3/lib/python3.7/site-packages (from requests->pytrends) (1.24.2)\n",
      "Requirement already satisfied: pytz>=2017.2 in /Users/charles/opt/anaconda3/lib/python3.7/site-packages (from pandas->pytrends) (2019.3)\n",
      "Requirement already satisfied: python-dateutil>=2.6.1 in /Users/charles/opt/anaconda3/lib/python3.7/site-packages (from pandas->pytrends) (2.8.0)\n",
      "Requirement already satisfied: numpy>=1.13.3 in /Users/charles/opt/anaconda3/lib/python3.7/site-packages (from pandas->pytrends) (1.17.2)\n",
      "Requirement already satisfied: six>=1.5 in /Users/charles/opt/anaconda3/lib/python3.7/site-packages (from python-dateutil>=2.6.1->pandas->pytrends) (1.12.0)\n",
      "Note: you may need to restart the kernel to use updated packages.\n"
     ]
    }
   ],
   "source": [
    "%pip install pytrends"
   ]
  },
  {
   "cell_type": "code",
   "execution_count": 197,
   "metadata": {},
   "outputs": [],
   "source": [
    "import pandas as pd                        \n",
    "from pytrends.request import TrendReq\n",
    "import matplotlib.pyplot as plt\n",
    "import datetime\n",
    "from datetime import date\n",
    "import matplotlib.dates as mdates\n",
    "from pandas.io.json import json_normalize"
   ]
  },
  {
   "cell_type": "code",
   "execution_count": 198,
   "metadata": {},
   "outputs": [],
   "source": [
    "pytrend = TrendReq(hl='en-US', tz=360)"
   ]
  },
  {
   "cell_type": "code",
   "execution_count": 199,
   "metadata": {},
   "outputs": [],
   "source": [
    "#Search name\n",
    "keywords = ['aws','gcp','azure']"
   ]
  },
  {
   "cell_type": "code",
   "execution_count": 200,
   "metadata": {},
   "outputs": [
    {
     "name": "stdout",
     "output_type": "stream",
     "text": [
      "1\n"
     ]
    }
   ],
   "source": [
    "#Set lookback year from now on\n",
    "user_timeframe = input ()"
   ]
  },
  {
   "cell_type": "code",
   "execution_count": 201,
   "metadata": {},
   "outputs": [],
   "source": [
    "#Reset numyears\n",
    "if user_timeframe == \"5\":\n",
    "    numyears = 5\n",
    "elif user_timeframe == \"4\":\n",
    "    numyears = 4\n",
    "elif user_timeframe == \"3\":\n",
    "    numyears = 3\n",
    "elif user_timeframe == \"2\":\n",
    "    numyears = 2\n",
    "else:\n",
    "    numyears = 1"
   ]
  },
  {
   "cell_type": "code",
   "execution_count": 231,
   "metadata": {},
   "outputs": [
    {
     "name": "stdout",
     "output_type": "stream",
     "text": [
      "2018-10-16 2020-03-09\n"
     ]
    }
   ],
   "source": [
    "#Set lookback year from now on or set specific date at below block\n",
    "numdays = 10\n",
    "numweeks = 52\n",
    "total_time_range = numdays * numweeks * numyears\n",
    "end_date= date.today()\n",
    "today_date = date.today()\n",
    "end_date = today_date\n",
    "begin_date = end_date - datetime.timedelta(days = total_time_range-10)\n",
    "user_timeframe = begin_date.strftime('%Y-%m-%d')+' '+end_date.strftime('%Y-%m-%d')\n",
    "print(user_timeframe)"
   ]
  },
  {
   "cell_type": "code",
   "execution_count": 232,
   "metadata": {},
   "outputs": [],
   "source": [
    "#Search \n",
    "pytrend.build_payload(kw_list=keywords, cat=0, timeframe=user_timeframe, geo='TW', gprop='')"
   ]
  },
  {
   "cell_type": "code",
   "execution_count": 233,
   "metadata": {
    "scrolled": true
   },
   "outputs": [
    {
     "data": {
      "text/html": [
       "<div>\n",
       "<style scoped>\n",
       "    .dataframe tbody tr th:only-of-type {\n",
       "        vertical-align: middle;\n",
       "    }\n",
       "\n",
       "    .dataframe tbody tr th {\n",
       "        vertical-align: top;\n",
       "    }\n",
       "\n",
       "    .dataframe thead th {\n",
       "        text-align: right;\n",
       "    }\n",
       "</style>\n",
       "<table border=\"1\" class=\"dataframe\">\n",
       "  <thead>\n",
       "    <tr style=\"text-align: right;\">\n",
       "      <th></th>\n",
       "      <th>aws</th>\n",
       "      <th>gcp</th>\n",
       "      <th>azure</th>\n",
       "      <th>isPartial</th>\n",
       "    </tr>\n",
       "    <tr>\n",
       "      <th>date</th>\n",
       "      <th></th>\n",
       "      <th></th>\n",
       "      <th></th>\n",
       "      <th></th>\n",
       "    </tr>\n",
       "  </thead>\n",
       "  <tbody>\n",
       "    <tr>\n",
       "      <td>2018-10-21</td>\n",
       "      <td>80</td>\n",
       "      <td>26</td>\n",
       "      <td>38</td>\n",
       "      <td>False</td>\n",
       "    </tr>\n",
       "    <tr>\n",
       "      <td>2018-10-28</td>\n",
       "      <td>89</td>\n",
       "      <td>22</td>\n",
       "      <td>49</td>\n",
       "      <td>False</td>\n",
       "    </tr>\n",
       "    <tr>\n",
       "      <td>2018-11-04</td>\n",
       "      <td>70</td>\n",
       "      <td>20</td>\n",
       "      <td>33</td>\n",
       "      <td>False</td>\n",
       "    </tr>\n",
       "    <tr>\n",
       "      <td>2018-11-11</td>\n",
       "      <td>66</td>\n",
       "      <td>20</td>\n",
       "      <td>27</td>\n",
       "      <td>False</td>\n",
       "    </tr>\n",
       "    <tr>\n",
       "      <td>2018-11-18</td>\n",
       "      <td>70</td>\n",
       "      <td>18</td>\n",
       "      <td>45</td>\n",
       "      <td>False</td>\n",
       "    </tr>\n",
       "  </tbody>\n",
       "</table>\n",
       "</div>"
      ],
      "text/plain": [
       "            aws  gcp  azure isPartial\n",
       "date                                 \n",
       "2018-10-21   80   26     38     False\n",
       "2018-10-28   89   22     49     False\n",
       "2018-11-04   70   20     33     False\n",
       "2018-11-11   66   20     27     False\n",
       "2018-11-18   70   18     45     False"
      ]
     },
     "execution_count": 233,
     "metadata": {},
     "output_type": "execute_result"
    }
   ],
   "source": [
    "#Show the dataframe\n",
    "pytrend.interest_over_time().head()"
   ]
  },
  {
   "cell_type": "code",
   "execution_count": 173,
   "metadata": {},
   "outputs": [
    {
     "name": "stdout",
     "output_type": "stream",
     "text": [
      "            aws  gcp  azure isPartial\n",
      "date                                 \n",
      "2019-03-24   74   32     46     False\n",
      "2019-03-31   55   22     31     False\n",
      "2019-04-07   73   16     37     False\n",
      "2019-04-14   73   33     43     False\n",
      "2019-04-21   78   29     48     False\n"
     ]
    }
   ],
   "source": [
    "interest_over_time_df = pytrend.interest_over_time()\n",
    "print(interest_over_time_df.head())"
   ]
  },
  {
   "cell_type": "code",
   "execution_count": 174,
   "metadata": {},
   "outputs": [
    {
     "data": {
      "text/html": [
       "<div>\n",
       "<style scoped>\n",
       "    .dataframe tbody tr th:only-of-type {\n",
       "        vertical-align: middle;\n",
       "    }\n",
       "\n",
       "    .dataframe tbody tr th {\n",
       "        vertical-align: top;\n",
       "    }\n",
       "\n",
       "    .dataframe thead th {\n",
       "        text-align: right;\n",
       "    }\n",
       "</style>\n",
       "<table border=\"1\" class=\"dataframe\">\n",
       "  <thead>\n",
       "    <tr style=\"text-align: right;\">\n",
       "      <th></th>\n",
       "      <th>aws</th>\n",
       "      <th>gcp</th>\n",
       "      <th>azure</th>\n",
       "    </tr>\n",
       "  </thead>\n",
       "  <tbody>\n",
       "    <tr>\n",
       "      <td>count</td>\n",
       "      <td>50.00</td>\n",
       "      <td>50.00</td>\n",
       "      <td>50.00</td>\n",
       "    </tr>\n",
       "    <tr>\n",
       "      <td>mean</td>\n",
       "      <td>74.48</td>\n",
       "      <td>29.74</td>\n",
       "      <td>46.30</td>\n",
       "    </tr>\n",
       "    <tr>\n",
       "      <td>std</td>\n",
       "      <td>11.58</td>\n",
       "      <td>6.11</td>\n",
       "      <td>7.67</td>\n",
       "    </tr>\n",
       "    <tr>\n",
       "      <td>min</td>\n",
       "      <td>33.00</td>\n",
       "      <td>10.00</td>\n",
       "      <td>24.00</td>\n",
       "    </tr>\n",
       "    <tr>\n",
       "      <td>25%</td>\n",
       "      <td>72.00</td>\n",
       "      <td>28.00</td>\n",
       "      <td>42.00</td>\n",
       "    </tr>\n",
       "    <tr>\n",
       "      <td>50%</td>\n",
       "      <td>76.00</td>\n",
       "      <td>30.50</td>\n",
       "      <td>46.50</td>\n",
       "    </tr>\n",
       "    <tr>\n",
       "      <td>75%</td>\n",
       "      <td>82.00</td>\n",
       "      <td>33.00</td>\n",
       "      <td>49.00</td>\n",
       "    </tr>\n",
       "    <tr>\n",
       "      <td>max</td>\n",
       "      <td>100.00</td>\n",
       "      <td>43.00</td>\n",
       "      <td>69.00</td>\n",
       "    </tr>\n",
       "  </tbody>\n",
       "</table>\n",
       "</div>"
      ],
      "text/plain": [
       "          aws    gcp  azure\n",
       "count   50.00  50.00  50.00\n",
       "mean    74.48  29.74  46.30\n",
       "std     11.58   6.11   7.67\n",
       "min     33.00  10.00  24.00\n",
       "25%     72.00  28.00  42.00\n",
       "50%     76.00  30.50  46.50\n",
       "75%     82.00  33.00  49.00\n",
       "max    100.00  43.00  69.00"
      ]
     },
     "execution_count": 174,
     "metadata": {},
     "output_type": "execute_result"
    }
   ],
   "source": [
    "round(interest_over_time_df.describe(),2)"
   ]
  },
  {
   "cell_type": "code",
   "execution_count": 175,
   "metadata": {},
   "outputs": [
    {
     "data": {
      "image/png": "[encoded data removed]",
      "text/plain": [
       "<Figure size 432x288 with 1 Axes>"
      ]
     },
     "metadata": {
      "needs_background": "light"
     },
     "output_type": "display_data"
    }
   ],
   "source": [
    "# x axis values: dates of the last n years (n defined above by the user)\n",
    "numdays = 7\n",
    "numweeks = 52\n",
    "datelist = [begin_date]\n",
    "\n",
    "\n",
    "#因為一年的資料只會算到50次 所以numweeks*numyears-3\n",
    "for index in range (0, numweeks*numyears-3):\n",
    "    datelist.append(datelist[index] + datetime.timedelta(days = numdays)) \n",
    "x_axis = datelist\n",
    "\n",
    "#Plot into a chart \n",
    "#plt.gca().xaxis.set_major_formatter(mdates.DateFormatter('%m/%Y'))\n",
    "plt.gca().xaxis.set_major_formatter(mdates.DateFormatter('%m'))\n",
    "plt.gca().xaxis.set_major_locator(mdates.DayLocator(0,20*numyears))\n",
    "plt.gcf().autofmt_xdate()\n",
    "plt.plot (x_axis, interest_over_time_df.iloc[:,0], label = 'aws')\n",
    "plt.plot (x_axis, interest_over_time_df.iloc[:,1], label = 'gcp')\n",
    "plt.plot (x_axis, interest_over_time_df.iloc[:,2], label = 'azure')\n",
    "plt.xticks(rotation=1)\n",
    "plt.xlabel('Time')\n",
    "plt.ylabel('Level of Interest')\n",
    "plt.title('Interest over time')\n",
    "plt.legend()\n",
    "plt.show()"
   ]
  },
  {
   "cell_type": "code",
   "execution_count": 184,
   "metadata": {},
   "outputs": [
    {
     "name": "stdout",
     "output_type": "stream",
     "text": [
      "2019-01-01 2019-12-31\n"
     ]
    }
   ],
   "source": [
    "# OR set specific date \n",
    "set_begin_date = datetime.datetime(2019, 1, 1)\n",
    "set_end_date = datetime.datetime(2019, 12, 31)\n",
    "\n",
    "print(set_begin_date.date() , set_end_date.date())\n",
    "user_timeframe = set_begin_date.strftime('%Y-%m-%d')+' '+ set_end_date.strftime('%Y-%m-%d')"
   ]
  },
  {
   "cell_type": "code",
   "execution_count": 187,
   "metadata": {},
   "outputs": [
    {
     "data": {
      "text/html": [
       "<div>\n",
       "<style scoped>\n",
       "    .dataframe tbody tr th:only-of-type {\n",
       "        vertical-align: middle;\n",
       "    }\n",
       "\n",
       "    .dataframe tbody tr th {\n",
       "        vertical-align: top;\n",
       "    }\n",
       "\n",
       "    .dataframe thead th {\n",
       "        text-align: right;\n",
       "    }\n",
       "</style>\n",
       "<table border=\"1\" class=\"dataframe\">\n",
       "  <thead>\n",
       "    <tr style=\"text-align: right;\">\n",
       "      <th></th>\n",
       "      <th>aws</th>\n",
       "      <th>gcp</th>\n",
       "      <th>azure</th>\n",
       "      <th>isPartial</th>\n",
       "    </tr>\n",
       "    <tr>\n",
       "      <th>date</th>\n",
       "      <th></th>\n",
       "      <th></th>\n",
       "      <th></th>\n",
       "      <th></th>\n",
       "    </tr>\n",
       "  </thead>\n",
       "  <tbody>\n",
       "    <tr>\n",
       "      <td>2019-01-06</td>\n",
       "      <td>80</td>\n",
       "      <td>25</td>\n",
       "      <td>39</td>\n",
       "      <td>False</td>\n",
       "    </tr>\n",
       "    <tr>\n",
       "      <td>2019-01-13</td>\n",
       "      <td>69</td>\n",
       "      <td>26</td>\n",
       "      <td>43</td>\n",
       "      <td>False</td>\n",
       "    </tr>\n",
       "    <tr>\n",
       "      <td>2019-01-20</td>\n",
       "      <td>72</td>\n",
       "      <td>16</td>\n",
       "      <td>44</td>\n",
       "      <td>False</td>\n",
       "    </tr>\n",
       "    <tr>\n",
       "      <td>2019-01-27</td>\n",
       "      <td>74</td>\n",
       "      <td>25</td>\n",
       "      <td>39</td>\n",
       "      <td>False</td>\n",
       "    </tr>\n",
       "    <tr>\n",
       "      <td>2019-02-03</td>\n",
       "      <td>16</td>\n",
       "      <td>9</td>\n",
       "      <td>11</td>\n",
       "      <td>False</td>\n",
       "    </tr>\n",
       "  </tbody>\n",
       "</table>\n",
       "</div>"
      ],
      "text/plain": [
       "            aws  gcp  azure  isPartial\n",
       "date                                  \n",
       "2019-01-06   80   25     39      False\n",
       "2019-01-13   69   26     43      False\n",
       "2019-01-20   72   16     44      False\n",
       "2019-01-27   74   25     39      False\n",
       "2019-02-03   16    9     11      False"
      ]
     },
     "execution_count": 187,
     "metadata": {},
     "output_type": "execute_result"
    }
   ],
   "source": [
    "#Search \n",
    "pytrend.build_payload(kw_list=keywords, cat=0, timeframe=user_timeframe, geo='TW', gprop='')\n",
    "pytrend.interest_over_time().head()"
   ]
  },
  {
   "cell_type": "code",
   "execution_count": null,
   "metadata": {},
   "outputs": [],
   "source": [
    "#Set lookback year from now on or set specific date at below block\n",
    "numdays = 7\n",
    "numweeks = 52\n",
    "total_time_range = numdays * numweeks * numyears\n",
    "end_date= date.today()\n",
    "today_date = date.today()\n",
    "end_date = today_date\n",
    "begin_date = end_date - datetime.timedelta(days = total_time_range-7)\n",
    "user_timeframe = begin_date.strftime('%Y-%m-%d')+' '+end_date.strftime('%Y-%m-%d')\n",
    "print(user_timeframe)"
   ]
  },
  {
   "cell_type": "code",
   "execution_count": 189,
   "metadata": {},
   "outputs": [
    {
     "data": {
      "image/png": "[encoded data removed]",
      "text/plain": [
       "<Figure size 432x288 with 1 Axes>"
      ]
     },
     "metadata": {
      "needs_background": "light"
     },
     "output_type": "display_data"
    }
   ],
   "source": [
    "# x axis values: dates of the last n years (n defined above by the user)\n",
    "numdays = 7\n",
    "numweeks = 52\n",
    "begin_date = end_date - datetime.timedelta(days = total_time_range-7)\n",
    "datelist = [begin_date]\n",
    "\n",
    "\n",
    "for index in range (0, numweeks*numyears-3):\n",
    "    datelist.append(datelist[index] + datetime.timedelta(days = numdays)) \n",
    "x_axis = datelist\n",
    "\n",
    "#Plot into a chart \n",
    "#plt.gca().xaxis.set_major_formatter(mdates.DateFormatter('%m/%Y'))\n",
    "plt.gca().xaxis.set_major_formatter(mdates.DateFormatter('%m/%Y'))\n",
    "plt.gca().xaxis.set_major_locator(mdates.DayLocator(0,50*numyears))\n",
    "plt.gcf().autofmt_xdate()\n",
    "plt.plot (x_axis, interest_over_time_df.iloc[:,0], label = 'aws')\n",
    "plt.plot (x_axis, interest_over_time_df.iloc[:,1], label = 'gcp')\n",
    "plt.plot (x_axis, interest_over_time_df.iloc[:,2], label = 'azure')\n",
    "plt.xticks(rotation=1)\n",
    "plt.xlabel('Time')\n",
    "plt.ylabel('Level of Interest')\n",
    "plt.title('Interest over time')\n",
    "plt.legend()\n",
    "plt.show()"
   ]
  },
  {
   "cell_type": "code",
   "execution_count": 130,
   "metadata": {},
   "outputs": [
    {
     "data": {
      "text/plain": [
       "aws      74.48\n",
       "gcp      29.74\n",
       "azure    46.30\n",
       "dtype: float64"
      ]
     },
     "execution_count": 130,
     "metadata": {},
     "output_type": "execute_result"
    }
   ],
   "source": [
    "avg_search_result = interest_over_time_df.mean(0)\n",
    "avg_search_result"
   ]
  },
  {
   "cell_type": "code",
   "execution_count": 145,
   "metadata": {},
   "outputs": [
    {
     "data": {
      "text/html": [
       "<div>\n",
       "<style scoped>\n",
       "    .dataframe tbody tr th:only-of-type {\n",
       "        vertical-align: middle;\n",
       "    }\n",
       "\n",
       "    .dataframe tbody tr th {\n",
       "        vertical-align: top;\n",
       "    }\n",
       "\n",
       "    .dataframe thead th {\n",
       "        text-align: right;\n",
       "    }\n",
       "</style>\n",
       "<table border=\"1\" class=\"dataframe\">\n",
       "  <thead>\n",
       "    <tr style=\"text-align: right;\">\n",
       "      <th></th>\n",
       "      <th>query</th>\n",
       "      <th>value</th>\n",
       "    </tr>\n",
       "  </thead>\n",
       "  <tbody>\n",
       "    <tr>\n",
       "      <td>0</td>\n",
       "      <td>aws s3</td>\n",
       "      <td>100</td>\n",
       "    </tr>\n",
       "    <tr>\n",
       "      <td>1</td>\n",
       "      <td>aws ec2</td>\n",
       "      <td>86</td>\n",
       "    </tr>\n",
       "    <tr>\n",
       "      <td>2</td>\n",
       "      <td>aws lambda</td>\n",
       "      <td>57</td>\n",
       "    </tr>\n",
       "    <tr>\n",
       "      <td>3</td>\n",
       "      <td>aws cli</td>\n",
       "      <td>54</td>\n",
       "    </tr>\n",
       "    <tr>\n",
       "      <td>4</td>\n",
       "      <td>aws console</td>\n",
       "      <td>49</td>\n",
       "    </tr>\n",
       "    <tr>\n",
       "      <td>5</td>\n",
       "      <td>amazon</td>\n",
       "      <td>46</td>\n",
       "    </tr>\n",
       "    <tr>\n",
       "      <td>6</td>\n",
       "      <td>amazon aws</td>\n",
       "      <td>45</td>\n",
       "    </tr>\n",
       "    <tr>\n",
       "      <td>7</td>\n",
       "      <td>aws 台灣</td>\n",
       "      <td>37</td>\n",
       "    </tr>\n",
       "    <tr>\n",
       "      <td>8</td>\n",
       "      <td>aws 教學</td>\n",
       "      <td>37</td>\n",
       "    </tr>\n",
       "    <tr>\n",
       "      <td>9</td>\n",
       "      <td>aws rds</td>\n",
       "      <td>35</td>\n",
       "    </tr>\n",
       "    <tr>\n",
       "      <td>10</td>\n",
       "      <td>aws educate</td>\n",
       "      <td>20</td>\n",
       "    </tr>\n",
       "    <tr>\n",
       "      <td>11</td>\n",
       "      <td>aws iot</td>\n",
       "      <td>20</td>\n",
       "    </tr>\n",
       "    <tr>\n",
       "      <td>12</td>\n",
       "      <td>台灣 人壽 aws</td>\n",
       "      <td>18</td>\n",
       "    </tr>\n",
       "    <tr>\n",
       "      <td>13</td>\n",
       "      <td>aws 是 什麼</td>\n",
       "      <td>15</td>\n",
       "    </tr>\n",
       "    <tr>\n",
       "      <td>14</td>\n",
       "      <td>aws ecs</td>\n",
       "      <td>15</td>\n",
       "    </tr>\n",
       "    <tr>\n",
       "      <td>15</td>\n",
       "      <td>aws certification</td>\n",
       "      <td>11</td>\n",
       "    </tr>\n",
       "    <tr>\n",
       "      <td>16</td>\n",
       "      <td>aws 認證</td>\n",
       "      <td>11</td>\n",
       "    </tr>\n",
       "    <tr>\n",
       "      <td>17</td>\n",
       "      <td>aws calculator</td>\n",
       "      <td>10</td>\n",
       "    </tr>\n",
       "    <tr>\n",
       "      <td>18</td>\n",
       "      <td>aws training</td>\n",
       "      <td>8</td>\n",
       "    </tr>\n",
       "    <tr>\n",
       "      <td>19</td>\n",
       "      <td>aws status</td>\n",
       "      <td>7</td>\n",
       "    </tr>\n",
       "    <tr>\n",
       "      <td>20</td>\n",
       "      <td>aws 證照</td>\n",
       "      <td>6</td>\n",
       "    </tr>\n",
       "    <tr>\n",
       "      <td>21</td>\n",
       "      <td>aws summit</td>\n",
       "      <td>3</td>\n",
       "    </tr>\n",
       "  </tbody>\n",
       "</table>\n",
       "</div>"
      ],
      "text/plain": [
       "                query  value\n",
       "0              aws s3    100\n",
       "1             aws ec2     86\n",
       "2          aws lambda     57\n",
       "3             aws cli     54\n",
       "4         aws console     49\n",
       "5              amazon     46\n",
       "6          amazon aws     45\n",
       "7              aws 台灣     37\n",
       "8              aws 教學     37\n",
       "9             aws rds     35\n",
       "10        aws educate     20\n",
       "11            aws iot     20\n",
       "12          台灣 人壽 aws     18\n",
       "13           aws 是 什麼     15\n",
       "14            aws ecs     15\n",
       "15  aws certification     11\n",
       "16             aws 認證     11\n",
       "17     aws calculator     10\n",
       "18       aws training      8\n",
       "19         aws status      7\n",
       "20             aws 證照      6\n",
       "21         aws summit      3"
      ]
     },
     "execution_count": 145,
     "metadata": {},
     "output_type": "execute_result"
    }
   ],
   "source": [
    "#AWS related queries\n",
    "related_queries_dict = pytrend.related_queries()\n",
    "aws_top_search = related_queries_dict['aws']['top']\n",
    "aws_top_search "
   ]
  },
  {
   "cell_type": "code",
   "execution_count": 146,
   "metadata": {},
   "outputs": [
    {
     "data": {
      "text/html": [
       "<div>\n",
       "<style scoped>\n",
       "    .dataframe tbody tr th:only-of-type {\n",
       "        vertical-align: middle;\n",
       "    }\n",
       "\n",
       "    .dataframe tbody tr th {\n",
       "        vertical-align: top;\n",
       "    }\n",
       "\n",
       "    .dataframe thead th {\n",
       "        text-align: right;\n",
       "    }\n",
       "</style>\n",
       "<table border=\"1\" class=\"dataframe\">\n",
       "  <thead>\n",
       "    <tr style=\"text-align: right;\">\n",
       "      <th></th>\n",
       "      <th>query</th>\n",
       "      <th>value</th>\n",
       "    </tr>\n",
       "  </thead>\n",
       "  <tbody>\n",
       "    <tr>\n",
       "      <td>0</td>\n",
       "      <td>aws educate</td>\n",
       "      <td>200</td>\n",
       "    </tr>\n",
       "    <tr>\n",
       "      <td>1</td>\n",
       "      <td>aws lambda</td>\n",
       "      <td>90</td>\n",
       "    </tr>\n",
       "    <tr>\n",
       "      <td>2</td>\n",
       "      <td>aws cli</td>\n",
       "      <td>80</td>\n",
       "    </tr>\n",
       "    <tr>\n",
       "      <td>3</td>\n",
       "      <td>台灣 人壽 aws</td>\n",
       "      <td>70</td>\n",
       "    </tr>\n",
       "    <tr>\n",
       "      <td>4</td>\n",
       "      <td>aws 台灣</td>\n",
       "      <td>40</td>\n",
       "    </tr>\n",
       "    <tr>\n",
       "      <td>5</td>\n",
       "      <td>aws s3</td>\n",
       "      <td>40</td>\n",
       "    </tr>\n",
       "  </tbody>\n",
       "</table>\n",
       "</div>"
      ],
      "text/plain": [
       "         query  value\n",
       "0  aws educate    200\n",
       "1   aws lambda     90\n",
       "2      aws cli     80\n",
       "3    台灣 人壽 aws     70\n",
       "4       aws 台灣     40\n",
       "5       aws s3     40"
      ]
     },
     "execution_count": 146,
     "metadata": {},
     "output_type": "execute_result"
    }
   ],
   "source": [
    "aws_rising_search = related_queries_dict['aws']['rising']\n",
    "aws_rising_search"
   ]
  },
  {
   "cell_type": "code",
   "execution_count": 147,
   "metadata": {},
   "outputs": [
    {
     "data": {
      "text/html": [
       "<div>\n",
       "<style scoped>\n",
       "    .dataframe tbody tr th:only-of-type {\n",
       "        vertical-align: middle;\n",
       "    }\n",
       "\n",
       "    .dataframe tbody tr th {\n",
       "        vertical-align: top;\n",
       "    }\n",
       "\n",
       "    .dataframe thead th {\n",
       "        text-align: right;\n",
       "    }\n",
       "</style>\n",
       "<table border=\"1\" class=\"dataframe\">\n",
       "  <thead>\n",
       "    <tr style=\"text-align: right;\">\n",
       "      <th></th>\n",
       "      <th>query</th>\n",
       "      <th>value</th>\n",
       "    </tr>\n",
       "  </thead>\n",
       "  <tbody>\n",
       "    <tr>\n",
       "      <td>0</td>\n",
       "      <td>google gcp</td>\n",
       "      <td>100</td>\n",
       "    </tr>\n",
       "    <tr>\n",
       "      <td>1</td>\n",
       "      <td>gcp console</td>\n",
       "      <td>86</td>\n",
       "    </tr>\n",
       "    <tr>\n",
       "      <td>2</td>\n",
       "      <td>gcp 教學</td>\n",
       "      <td>40</td>\n",
       "    </tr>\n",
       "    <tr>\n",
       "      <td>3</td>\n",
       "      <td>aws</td>\n",
       "      <td>35</td>\n",
       "    </tr>\n",
       "    <tr>\n",
       "      <td>4</td>\n",
       "      <td>gcp 課程</td>\n",
       "      <td>27</td>\n",
       "    </tr>\n",
       "  </tbody>\n",
       "</table>\n",
       "</div>"
      ],
      "text/plain": [
       "         query  value\n",
       "0   google gcp    100\n",
       "1  gcp console     86\n",
       "2       gcp 教學     40\n",
       "3          aws     35\n",
       "4       gcp 課程     27"
      ]
     },
     "execution_count": 147,
     "metadata": {},
     "output_type": "execute_result"
    }
   ],
   "source": [
    "#GCP related queries\n",
    "gcp_top_search = related_queries_dict['gcp']['top']\n",
    "gcp_top_search"
   ]
  },
  {
   "cell_type": "code",
   "execution_count": 148,
   "metadata": {},
   "outputs": [
    {
     "data": {
      "text/html": [
       "<div>\n",
       "<style scoped>\n",
       "    .dataframe tbody tr th:only-of-type {\n",
       "        vertical-align: middle;\n",
       "    }\n",
       "\n",
       "    .dataframe tbody tr th {\n",
       "        vertical-align: top;\n",
       "    }\n",
       "\n",
       "    .dataframe thead th {\n",
       "        text-align: right;\n",
       "    }\n",
       "</style>\n",
       "<table border=\"1\" class=\"dataframe\">\n",
       "  <thead>\n",
       "    <tr style=\"text-align: right;\">\n",
       "      <th></th>\n",
       "      <th>query</th>\n",
       "      <th>value</th>\n",
       "    </tr>\n",
       "  </thead>\n",
       "  <tbody>\n",
       "    <tr>\n",
       "      <td>0</td>\n",
       "      <td>gcp 教學</td>\n",
       "      <td>130</td>\n",
       "    </tr>\n",
       "    <tr>\n",
       "      <td>1</td>\n",
       "      <td>gcp console</td>\n",
       "      <td>40</td>\n",
       "    </tr>\n",
       "  </tbody>\n",
       "</table>\n",
       "</div>"
      ],
      "text/plain": [
       "         query  value\n",
       "0       gcp 教學    130\n",
       "1  gcp console     40"
      ]
     },
     "execution_count": 148,
     "metadata": {},
     "output_type": "execute_result"
    }
   ],
   "source": [
    "gcp_rising_search = related_queries_dict['gcp']['rising']\n",
    "gcp_rising_search"
   ]
  },
  {
   "cell_type": "code",
   "execution_count": 150,
   "metadata": {},
   "outputs": [
    {
     "data": {
      "text/html": [
       "<div>\n",
       "<style scoped>\n",
       "    .dataframe tbody tr th:only-of-type {\n",
       "        vertical-align: middle;\n",
       "    }\n",
       "\n",
       "    .dataframe tbody tr th {\n",
       "        vertical-align: top;\n",
       "    }\n",
       "\n",
       "    .dataframe thead th {\n",
       "        text-align: right;\n",
       "    }\n",
       "</style>\n",
       "<table border=\"1\" class=\"dataframe\">\n",
       "  <thead>\n",
       "    <tr style=\"text-align: right;\">\n",
       "      <th></th>\n",
       "      <th>query</th>\n",
       "      <th>value</th>\n",
       "    </tr>\n",
       "  </thead>\n",
       "  <tbody>\n",
       "    <tr>\n",
       "      <td>0</td>\n",
       "      <td>microsoft azure</td>\n",
       "      <td>100</td>\n",
       "    </tr>\n",
       "    <tr>\n",
       "      <td>1</td>\n",
       "      <td>microsoft</td>\n",
       "      <td>96</td>\n",
       "    </tr>\n",
       "    <tr>\n",
       "      <td>2</td>\n",
       "      <td>azure devops</td>\n",
       "      <td>61</td>\n",
       "    </tr>\n",
       "    <tr>\n",
       "      <td>3</td>\n",
       "      <td>azure portal</td>\n",
       "      <td>50</td>\n",
       "    </tr>\n",
       "    <tr>\n",
       "      <td>4</td>\n",
       "      <td>aws</td>\n",
       "      <td>42</td>\n",
       "    </tr>\n",
       "    <tr>\n",
       "      <td>5</td>\n",
       "      <td>azure ad</td>\n",
       "      <td>38</td>\n",
       "    </tr>\n",
       "    <tr>\n",
       "      <td>6</td>\n",
       "      <td>windows azure</td>\n",
       "      <td>29</td>\n",
       "    </tr>\n",
       "    <tr>\n",
       "      <td>7</td>\n",
       "      <td>azure 中文</td>\n",
       "      <td>19</td>\n",
       "    </tr>\n",
       "    <tr>\n",
       "      <td>8</td>\n",
       "      <td>微軟 azure</td>\n",
       "      <td>17</td>\n",
       "    </tr>\n",
       "    <tr>\n",
       "      <td>9</td>\n",
       "      <td>azure sphere</td>\n",
       "      <td>15</td>\n",
       "    </tr>\n",
       "    <tr>\n",
       "      <td>10</td>\n",
       "      <td>azure stack</td>\n",
       "      <td>11</td>\n",
       "    </tr>\n",
       "    <tr>\n",
       "      <td>11</td>\n",
       "      <td>azure notebook</td>\n",
       "      <td>8</td>\n",
       "    </tr>\n",
       "    <tr>\n",
       "      <td>12</td>\n",
       "      <td>azure 發音</td>\n",
       "      <td>8</td>\n",
       "    </tr>\n",
       "    <tr>\n",
       "      <td>13</td>\n",
       "      <td>azure pass</td>\n",
       "      <td>8</td>\n",
       "    </tr>\n",
       "    <tr>\n",
       "      <td>14</td>\n",
       "      <td>azure 計算機</td>\n",
       "      <td>6</td>\n",
       "    </tr>\n",
       "  </tbody>\n",
       "</table>\n",
       "</div>"
      ],
      "text/plain": [
       "              query  value\n",
       "0   microsoft azure    100\n",
       "1         microsoft     96\n",
       "2      azure devops     61\n",
       "3      azure portal     50\n",
       "4               aws     42\n",
       "5          azure ad     38\n",
       "6     windows azure     29\n",
       "7          azure 中文     19\n",
       "8          微軟 azure     17\n",
       "9      azure sphere     15\n",
       "10      azure stack     11\n",
       "11   azure notebook      8\n",
       "12         azure 發音      8\n",
       "13       azure pass      8\n",
       "14        azure 計算機      6"
      ]
     },
     "execution_count": 150,
     "metadata": {},
     "output_type": "execute_result"
    }
   ],
   "source": [
    "#Azure related queries\n",
    "azure_top_search = related_queries_dict['azure']['top']\n",
    "azure_top_search"
   ]
  },
  {
   "cell_type": "code",
   "execution_count": 152,
   "metadata": {},
   "outputs": [
    {
     "data": {
      "text/html": [
       "<div>\n",
       "<style scoped>\n",
       "    .dataframe tbody tr th:only-of-type {\n",
       "        vertical-align: middle;\n",
       "    }\n",
       "\n",
       "    .dataframe tbody tr th {\n",
       "        vertical-align: top;\n",
       "    }\n",
       "\n",
       "    .dataframe thead th {\n",
       "        text-align: right;\n",
       "    }\n",
       "</style>\n",
       "<table border=\"1\" class=\"dataframe\">\n",
       "  <thead>\n",
       "    <tr style=\"text-align: right;\">\n",
       "      <th></th>\n",
       "      <th>query</th>\n",
       "      <th>value</th>\n",
       "    </tr>\n",
       "  </thead>\n",
       "  <tbody>\n",
       "    <tr>\n",
       "      <td>0</td>\n",
       "      <td>azure devops</td>\n",
       "      <td>550</td>\n",
       "    </tr>\n",
       "    <tr>\n",
       "      <td>1</td>\n",
       "      <td>azure sphere</td>\n",
       "      <td>250</td>\n",
       "    </tr>\n",
       "    <tr>\n",
       "      <td>2</td>\n",
       "      <td>azure pass</td>\n",
       "      <td>70</td>\n",
       "    </tr>\n",
       "  </tbody>\n",
       "</table>\n",
       "</div>"
      ],
      "text/plain": [
       "          query  value\n",
       "0  azure devops    550\n",
       "1  azure sphere    250\n",
       "2    azure pass     70"
      ]
     },
     "execution_count": 152,
     "metadata": {},
     "output_type": "execute_result"
    }
   ],
   "source": [
    "azure_rising_search = related_queries_dict['azure']['rising']\n",
    "azure_rising_search"
   ]
  }
 ],
 "metadata": {
  "kernelspec": {
   "display_name": "Python 3",
   "language": "python",
   "name": "python3"
  },
  "language_info": {
   "codemirror_mode": {
    "name": "ipython",
    "version": 3
   },
   "file_extension": ".py",
   "mimetype": "text/x-python",
   "name": "python",
   "nbconvert_exporter": "python",
   "pygments_lexer": "ipython3",
   "version": "3.7.4"
  }
 },
 "nbformat": 4,
 "nbformat_minor": 2
}
