{
 "cells": [
  {
   "cell_type": "code",
   "execution_count": 1,
   "metadata": {},
   "outputs": [],
   "source": [
    "from pytrends.request import TrendReq\n",
    "from pandas.io.json import json_normalize\n",
    "import pandas as pd\n",
    "import matplotlib.pyplot as plt\n",
    "import datetime\n",
    "from datetime import date\n",
    "import matplotlib.dates as mdates"
   ]
  },
  {
   "cell_type": "code",
   "execution_count": 2,
   "metadata": {},
   "outputs": [
    {
     "name": "stdout",
     "output_type": "stream",
     "text": [
      "First keyword: iot\n"
     ]
    }
   ],
   "source": [
    "#Keyword search\n",
    "keyword_1 = input('First keyword: ')"
   ]
  },
  {
   "cell_type": "code",
   "execution_count": 3,
   "metadata": {},
   "outputs": [
    {
     "name": "stdout",
     "output_type": "stream",
     "text": [
      "iot\n"
     ]
    }
   ],
   "source": [
    "#Print keyword_1\n",
    "print(keyword_1)"
   ]
  },
  {
   "cell_type": "code",
   "execution_count": 4,
   "metadata": {},
   "outputs": [
    {
     "name": "stdout",
     "output_type": "stream",
     "text": [
      "Do you want to add another keyword? [Yes/No]: yes\n"
     ]
    }
   ],
   "source": [
    "#Whethor need to compare other keyword\n",
    "question_1 = input('Do you want to add another keyword? [Yes/No]: ')"
   ]
  },
  {
   "cell_type": "code",
   "execution_count": 5,
   "metadata": {},
   "outputs": [
    {
     "name": "stdout",
     "output_type": "stream",
     "text": [
      "yes\n"
     ]
    }
   ],
   "source": [
    "#Print question_1\n",
    "print(question_1)"
   ]
  },
  {
   "cell_type": "code",
   "execution_count": 6,
   "metadata": {},
   "outputs": [
    {
     "name": "stdout",
     "output_type": "stream",
     "text": [
      "Second keyword: devops\n"
     ]
    }
   ],
   "source": [
    "if question_1.upper() == 'YES':\n",
    "    keyword_2 = input('Second keyword: ')\n",
    "else:\n",
    "    keyword_2 = ''"
   ]
  },
  {
   "cell_type": "code",
   "execution_count": 7,
   "metadata": {},
   "outputs": [
    {
     "name": "stdout",
     "output_type": "stream",
     "text": [
      "Do you want to add another keyword? [Yes/No]: yes\n"
     ]
    }
   ],
   "source": [
    "if question_1.upper() == 'YES':\n",
    "    question_2 = input('Do you want to add another keyword? [Yes/No]: ')\n",
    "    "
   ]
  },
  {
   "cell_type": "code",
   "execution_count": 8,
   "metadata": {},
   "outputs": [
    {
     "name": "stdout",
     "output_type": "stream",
     "text": [
      "Third keyword: 5g\n"
     ]
    }
   ],
   "source": [
    "if question_2.upper() == 'YES':\n",
    "    keyword_3 = input('Third keyword: ')\n",
    "else:\n",
    "    keyword_3 = ''"
   ]
  },
  {
   "cell_type": "code",
   "execution_count": 9,
   "metadata": {},
   "outputs": [],
   "source": [
    "user_kw_list = [keyword_1]\n",
    "if question_1.upper() == 'YES':\n",
    "    user_kw_list.append(keyword_2)\n",
    "if question_2.upper() == 'YES':\n",
    "    user_kw_list.append(keyword_3)"
   ]
  },
  {
   "cell_type": "code",
   "execution_count": 10,
   "metadata": {},
   "outputs": [
    {
     "name": "stdout",
     "output_type": "stream",
     "text": [
      "['iot', 'devops', '5g']\n"
     ]
    }
   ],
   "source": [
    "print(user_kw_list)"
   ]
  },
  {
   "cell_type": "code",
   "execution_count": 11,
   "metadata": {},
   "outputs": [],
   "source": [
    "user_cat = 0 \n",
    "user_timeframe = 'today 5-y' \n",
    "user_geo = ''"
   ]
  },
  {
   "cell_type": "code",
   "execution_count": 12,
   "metadata": {},
   "outputs": [
    {
     "name": "stdout",
     "output_type": "stream",
     "text": [
      "Would you like to focus the research on a specific timeframe? (default is last 5 years) (Yes/No): yes\n"
     ]
    }
   ],
   "source": [
    "#Select timeframe\n",
    "ans = input ('Would you like to focus the research on a specific timeframe? (default is last 5 years) (Yes/No): ')\n"
   ]
  },
  {
   "cell_type": "code",
   "execution_count": 13,
   "metadata": {},
   "outputs": [
    {
     "name": "stdout",
     "output_type": "stream",
     "text": [
      "Here is the list of the timeframes available: \n",
      " all: all \n",
      " last 5 years: 5 years \n",
      " last 4 years: 4 years \n",
      " last 3 years: 3 years \n",
      " last 2 years: 2 years \n",
      " last 1 year: 1 year\n",
      "Please indicate the timeframe of focus in the format specified in the list (e.g. \"3 years\"): 1 year\n"
     ]
    }
   ],
   "source": [
    "#Timeframe\n",
    "if ans.upper() == \"YES\":\n",
    "    timeframe_list = ('Here is the list of the timeframes available: \\n all: all \\n last 5 years: 5 years \\n last 4 years: 4 years \\n last 3 years: 3 years \\n last 2 years: 2 years \\n last 1 year: 1 year')\n",
    "    print (timeframe_list)\n",
    "    user_timeframe = input ('Please indicate the timeframe of focus in the format specified in the list (e.g. \"3 years\"): ')\n",
    "        "
   ]
  },
  {
   "cell_type": "code",
   "execution_count": 14,
   "metadata": {},
   "outputs": [
    {
     "name": "stdout",
     "output_type": "stream",
     "text": [
      "Timeframe set\n"
     ]
    }
   ],
   "source": [
    "#Timeframe set\n",
    "acceptable_timeframe = ['5 years', '4 years', '3 years', '2 years', '1 year']\n",
    "if user_timeframe in acceptable_timeframe:\n",
    "    print ('Timeframe set')\n",
    "else:\n",
    "    user_timeframe = input ('Timeframe not valid, please indicate the right timeframe: ')    \n",
    "    if user_timeframe in acceptable_timeframe:\n",
    "        print ('Timeframe set')\n",
    "    else:\n",
    "        user_timeframe = input ('Timeframe not valid, please indicate the right timeframe: ')\n",
    "        if user_timeframe in acceptable_timeframe:\n",
    "            print ('Timeframe set')\n",
    "        else:\n",
    "            user_timeframe = input ('Timeframe not valid, please indicate the right timeframe: ')"
   ]
  },
  {
   "cell_type": "code",
   "execution_count": 15,
   "metadata": {},
   "outputs": [],
   "source": [
    "#Reset numyears\n",
    "if user_timeframe == \"5 years\":\n",
    "    numyears = 5\n",
    "elif user_timeframe == \"4 years\":\n",
    "    numyears = 4\n",
    "elif user_timeframe == \"3 years\":\n",
    "    numyears = 3\n",
    "elif user_timeframe == \"2 years\":\n",
    "    numyears = 2\n",
    "else:\n",
    "    numyears = 1"
   ]
  },
  {
   "cell_type": "code",
   "execution_count": 16,
   "metadata": {},
   "outputs": [
    {
     "name": "stdout",
     "output_type": "stream",
     "text": [
      "2019-03-18 2020-03-09\n"
     ]
    }
   ],
   "source": [
    "numdays = 7\n",
    "numweeks = 52\n",
    "total_time_range = numdays * numweeks * numyears\n",
    "end_date= date.today()\n",
    "today_date = date.today()\n",
    "end_date = today_date\n",
    "begin_date = end_date - datetime.timedelta(days = total_time_range-7)\n",
    "user_timeframe = begin_date.strftime('%Y-%m-%d')+' '+end_date.strftime('%Y-%m-%d')\n",
    "print(user_timeframe)"
   ]
  },
  {
   "cell_type": "code",
   "execution_count": 17,
   "metadata": {},
   "outputs": [
    {
     "name": "stdout",
     "output_type": "stream",
     "text": [
      "Would you like to focus the research on a specific country? (default is World) (Yes/No): yes\n"
     ]
    }
   ],
   "source": [
    "#Reset gro\n",
    "ans = input ('Would you like to focus the research on a specific country? (default is World) (Yes/No): ')\n"
   ]
  },
  {
   "cell_type": "code",
   "execution_count": 18,
   "metadata": {},
   "outputs": [
    {
     "name": "stdout",
     "output_type": "stream",
     "text": [
      "Please indicate country of focus (first two letters in capitals, e.g. United States is US): TW\n",
      "TW\n"
     ]
    }
   ],
   "source": [
    "if ans.upper() == 'YES':\n",
    " user_geo = input ('Please indicate country of focus (first two letters in capitals, e.g. United States is US): ')\n",
    "print(user_geo)"
   ]
  },
  {
   "cell_type": "code",
   "execution_count": 19,
   "metadata": {},
   "outputs": [],
   "source": [
    "pytrend = TrendReq()"
   ]
  },
  {
   "cell_type": "code",
   "execution_count": 20,
   "metadata": {},
   "outputs": [],
   "source": [
    "#Pytrend\n",
    "pytrend.build_payload(kw_list=user_kw_list, cat=user_cat, timeframe=user_timeframe, geo=user_geo)"
   ]
  },
  {
   "cell_type": "code",
   "execution_count": 21,
   "metadata": {},
   "outputs": [
    {
     "name": "stdout",
     "output_type": "stream",
     "text": [
      "            iot  devops  5g isPartial\n",
      "date                                 \n",
      "2019-03-24   11       2  42     False\n",
      "2019-03-31    9       2  59     False\n",
      "2019-04-07   10       2  61     False\n",
      "2019-04-14   11       3  70     False\n",
      "2019-04-21   12       2  58     False\n"
     ]
    }
   ],
   "source": [
    "interest_over_time_df = pytrend.interest_over_time()\n",
    "print(interest_over_time_df.head())"
   ]
  },
  {
   "cell_type": "code",
   "execution_count": 22,
   "metadata": {},
   "outputs": [],
   "source": [
    "#Output data\n",
    "interest_over_time_df.to_csv(\"interest_over_time.csv\", index=True)"
   ]
  },
  {
   "cell_type": "code",
   "execution_count": 26,
   "metadata": {},
   "outputs": [
    {
     "data": {
      "image/png": "[encoded data removed]",
      "text/plain": [
       "<Figure size 432x288 with 1 Axes>"
      ]
     },
     "metadata": {
      "needs_background": "light"
     },
     "output_type": "display_data"
    }
   ],
   "source": [
    "# x axis values: dates of the last n years (n defined above by the user)\n",
    "numdays = 7\n",
    "numweeks = 52\n",
    "datelist = [begin_date]\n",
    "for index in range (0, numweeks*numyears-3):\n",
    "    datelist.append(datelist[index] + datetime.timedelta(days = numdays)) \n",
    "x_axis = datelist\n",
    "# Plot into a chart \n",
    "plt.gca().xaxis.set_major_formatter(mdates.DateFormatter('%m'))\n",
    "plt.gca().xaxis.set_major_locator(mdates.DayLocator(0,14*numyears))\n",
    "plt.gcf().autofmt_xdate()\n",
    "plt.plot (x_axis, interest_over_time_df.iloc[:,0], label = '{}'.format(keyword_1))\n",
    "if question_1.upper() == \"YES\":\n",
    "    plt.plot (x_axis, interest_over_time_df.iloc[:,1], label = '{}'.format(keyword_2))\n",
    "if question_2.upper() == \"YES\":\n",
    "    plt.plot (x_axis, interest_over_time_df.iloc[:,2], label = '{}'.format(keyword_3))\n",
    "plt.xticks(rotation=1)\n",
    "plt.xlabel('Time')\n",
    "plt.ylabel('Level of Interest')\n",
    "plt.title('Interest over time')\n",
    "plt.legend()\n",
    "plt.show()"
   ]
  },
  {
   "cell_type": "code",
   "execution_count": null,
   "metadata": {},
   "outputs": [],
   "source": []
  }
 ],
 "metadata": {
  "kernelspec": {
   "display_name": "Python 3",
   "language": "python",
   "name": "python3"
  },
  "language_info": {
   "codemirror_mode": {
    "name": "ipython",
    "version": 3
   },
   "file_extension": ".py",
   "mimetype": "text/x-python",
   "name": "python",
   "nbconvert_exporter": "python",
   "pygments_lexer": "ipython3",
   "version": "3.7.4"
  }
 },
 "nbformat": 4,
 "nbformat_minor": 2
}
